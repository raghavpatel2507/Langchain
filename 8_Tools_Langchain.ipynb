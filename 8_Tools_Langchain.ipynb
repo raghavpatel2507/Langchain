{
 "cells": [
  {
   "cell_type": "code",
   "execution_count": 1,
   "id": "09670c70",
   "metadata": {},
   "outputs": [
    {
     "name": "stdout",
     "output_type": "stream",
     "text": [
      "Requirement already satisfied: pydantic in c:\\users\\hp\\onedrive\\desktop\\agentic ai\\langchain\\venv\\lib\\site-packages (2.11.7)\n",
      "Collecting duckduckgo-search\n",
      "  Downloading duckduckgo_search-8.1.1-py3-none-any.whl (18 kB)\n",
      "Collecting langchain_experimental\n",
      "  Downloading langchain_experimental-0.3.4-py3-none-any.whl (209 kB)\n",
      "                                              0.0/209.2 kB ? eta -:--:--\n",
      "                                              0.0/209.2 kB ? eta -:--:--\n",
      "     -----                                    30.7/209.2 kB ? eta -:--:--\n",
      "     -------                               41.0/209.2 kB 960.0 kB/s eta 0:00:01\n",
      "     -------                               41.0/209.2 kB 960.0 kB/s eta 0:00:01\n",
      "     -------------------                  112.6/209.2 kB 819.2 kB/s eta 0:00:01\n",
      "     ---------------------                122.9/209.2 kB 654.9 kB/s eta 0:00:01\n",
      "     ---------------------                122.9/209.2 kB 654.9 kB/s eta 0:00:01\n",
      "     ---------------------                122.9/209.2 kB 654.9 kB/s eta 0:00:01\n",
      "     ---------------------                122.9/209.2 kB 654.9 kB/s eta 0:00:01\n",
      "     ---------------------                122.9/209.2 kB 654.9 kB/s eta 0:00:01\n",
      "     ---------------------                122.9/209.2 kB 654.9 kB/s eta 0:00:01\n",
      "     ---------------------                122.9/209.2 kB 654.9 kB/s eta 0:00:01\n",
      "     ------------------------------------ 209.2/209.2 kB 373.9 kB/s eta 0:00:00\n",
      "Requirement already satisfied: annotated-types>=0.6.0 in c:\\users\\hp\\onedrive\\desktop\\agentic ai\\langchain\\venv\\lib\\site-packages (from pydantic) (0.7.0)\n",
      "Requirement already satisfied: pydantic-core==2.33.2 in c:\\users\\hp\\onedrive\\desktop\\agentic ai\\langchain\\venv\\lib\\site-packages (from pydantic) (2.33.2)\n",
      "Requirement already satisfied: typing-extensions>=4.12.2 in c:\\users\\hp\\onedrive\\desktop\\agentic ai\\langchain\\venv\\lib\\site-packages (from pydantic) (4.14.1)\n",
      "Requirement already satisfied: typing-inspection>=0.4.0 in c:\\users\\hp\\onedrive\\desktop\\agentic ai\\langchain\\venv\\lib\\site-packages (from pydantic) (0.4.1)\n",
      "Requirement already satisfied: click>=8.1.8 in c:\\users\\hp\\onedrive\\desktop\\agentic ai\\langchain\\venv\\lib\\site-packages (from duckduckgo-search) (8.2.1)\n",
      "Collecting primp>=0.15.0 (from duckduckgo-search)\n",
      "  Downloading primp-0.15.0-cp38-abi3-win_amd64.whl (3.1 MB)\n",
      "                                              0.0/3.1 MB ? eta -:--:--\n",
      "                                              0.0/3.1 MB ? eta -:--:--\n",
      "                                              0.0/3.1 MB ? eta -:--:--\n",
      "                                              0.1/3.1 MB 409.6 kB/s eta 0:00:08\n",
      "                                              0.1/3.1 MB 393.8 kB/s eta 0:00:08\n",
      "                                              0.1/3.1 MB 393.8 kB/s eta 0:00:08\n",
      "     -                                        0.1/3.1 MB 450.6 kB/s eta 0:00:07\n",
      "     -                                        0.1/3.1 MB 437.3 kB/s eta 0:00:07\n",
      "     -                                        0.1/3.1 MB 437.3 kB/s eta 0:00:07\n",
      "     --                                       0.2/3.1 MB 454.0 kB/s eta 0:00:07\n",
      "     --                                       0.2/3.1 MB 454.0 kB/s eta 0:00:07\n",
      "     ---                                      0.2/3.1 MB 486.6 kB/s eta 0:00:06\n",
      "     ---                                      0.3/3.1 MB 482.1 kB/s eta 0:00:06\n",
      "     ---                                      0.3/3.1 MB 482.1 kB/s eta 0:00:06\n",
      "     ----                                     0.3/3.1 MB 521.2 kB/s eta 0:00:06\n",
      "     ----                                     0.3/3.1 MB 521.2 kB/s eta 0:00:06\n",
      "     ----                                     0.4/3.1 MB 488.3 kB/s eta 0:00:06\n",
      "     ----                                     0.4/3.1 MB 505.2 kB/s eta 0:00:06\n",
      "     -----                                    0.4/3.1 MB 501.1 kB/s eta 0:00:06\n",
      "     -----                                    0.5/3.1 MB 512.6 kB/s eta 0:00:06\n",
      "     -----                                    0.5/3.1 MB 508.6 kB/s eta 0:00:06\n",
      "     -----                                    0.5/3.1 MB 508.6 kB/s eta 0:00:06\n",
      "     ------                                   0.5/3.1 MB 522.2 kB/s eta 0:00:06\n",
      "     ------                                   0.5/3.1 MB 522.2 kB/s eta 0:00:06\n",
      "     -------                                  0.6/3.1 MB 517.1 kB/s eta 0:00:05\n",
      "     -------                                  0.6/3.1 MB 517.1 kB/s eta 0:00:05\n",
      "     -------                                  0.6/3.1 MB 517.1 kB/s eta 0:00:05\n",
      "     -------                                  0.6/3.1 MB 517.1 kB/s eta 0:00:05\n",
      "     -------                                  0.6/3.1 MB 517.1 kB/s eta 0:00:05\n",
      "     -------                                  0.6/3.1 MB 517.1 kB/s eta 0:00:05\n",
      "     -------                                  0.6/3.1 MB 517.1 kB/s eta 0:00:05\n",
      "     --------                                 0.7/3.1 MB 460.9 kB/s eta 0:00:06\n",
      "     --------                                 0.7/3.1 MB 465.1 kB/s eta 0:00:06\n",
      "     --------                                 0.7/3.1 MB 448.1 kB/s eta 0:00:06\n",
      "     ---------                                0.7/3.1 MB 447.8 kB/s eta 0:00:06\n",
      "     ---------                                0.7/3.1 MB 447.8 kB/s eta 0:00:06\n",
      "     ---------                                0.7/3.1 MB 445.2 kB/s eta 0:00:06\n",
      "     ---------                                0.8/3.1 MB 445.0 kB/s eta 0:00:06\n",
      "     ---------                                0.8/3.1 MB 445.0 kB/s eta 0:00:06\n",
      "     ----------                               0.8/3.1 MB 442.7 kB/s eta 0:00:06\n",
      "     ----------                               0.8/3.1 MB 438.9 kB/s eta 0:00:06\n",
      "     ----------                               0.8/3.1 MB 429.8 kB/s eta 0:00:06\n",
      "     ----------                               0.8/3.1 MB 429.8 kB/s eta 0:00:06\n",
      "     ----------                               0.8/3.1 MB 429.8 kB/s eta 0:00:06\n",
      "     ----------                               0.8/3.1 MB 429.8 kB/s eta 0:00:06\n",
      "     ----------                               0.8/3.1 MB 429.8 kB/s eta 0:00:06\n",
      "     ----------                               0.8/3.1 MB 429.8 kB/s eta 0:00:06\n",
      "     ----------                               0.8/3.1 MB 383.9 kB/s eta 0:00:06\n",
      "     -----------                              0.9/3.1 MB 389.6 kB/s eta 0:00:06\n",
      "     -----------                              0.9/3.1 MB 390.6 kB/s eta 0:00:06\n",
      "     -----------                              0.9/3.1 MB 390.6 kB/s eta 0:00:06\n",
      "     -----------                              0.9/3.1 MB 390.6 kB/s eta 0:00:06\n",
      "     -----------                              0.9/3.1 MB 377.0 kB/s eta 0:00:06\n",
      "     -----------                              0.9/3.1 MB 375.7 kB/s eta 0:00:06\n",
      "     -----------                              0.9/3.1 MB 375.7 kB/s eta 0:00:06\n",
      "     -----------                              0.9/3.1 MB 368.2 kB/s eta 0:00:06\n",
      "     ------------                             1.0/3.1 MB 369.4 kB/s eta 0:00:06\n",
      "     ------------                             1.0/3.1 MB 366.3 kB/s eta 0:00:06\n",
      "     ------------                             1.0/3.1 MB 365.9 kB/s eta 0:00:06\n",
      "     ------------                             1.0/3.1 MB 369.2 kB/s eta 0:00:06\n",
      "     -------------                            1.0/3.1 MB 371.9 kB/s eta 0:00:06\n",
      "     -------------                            1.1/3.1 MB 374.6 kB/s eta 0:00:06\n",
      "     -------------                            1.1/3.1 MB 377.5 kB/s eta 0:00:06\n",
      "     --------------                           1.1/3.1 MB 380.0 kB/s eta 0:00:06\n",
      "     --------------                           1.1/3.1 MB 380.0 kB/s eta 0:00:06\n",
      "     --------------                           1.2/3.1 MB 380.4 kB/s eta 0:00:06\n",
      "     --------------                           1.2/3.1 MB 380.4 kB/s eta 0:00:06\n",
      "     ---------------                          1.2/3.1 MB 376.8 kB/s eta 0:00:06\n",
      "     ---------------                          1.2/3.1 MB 377.7 kB/s eta 0:00:06\n",
      "     ---------------                          1.2/3.1 MB 377.2 kB/s eta 0:00:06\n",
      "     ---------------                          1.2/3.1 MB 381.9 kB/s eta 0:00:06\n",
      "     ----------------                         1.3/3.1 MB 383.9 kB/s eta 0:00:05\n",
      "     ----------------                         1.3/3.1 MB 383.9 kB/s eta 0:00:05\n",
      "     ----------------                         1.3/3.1 MB 378.8 kB/s eta 0:00:05\n",
      "     ----------------                         1.3/3.1 MB 379.6 kB/s eta 0:00:05\n",
      "     ----------------                         1.3/3.1 MB 379.6 kB/s eta 0:00:05\n",
      "     ----------------                         1.3/3.1 MB 379.6 kB/s eta 0:00:05\n",
      "     -----------------                        1.3/3.1 MB 373.7 kB/s eta 0:00:05\n",
      "     -----------------                        1.4/3.1 MB 375.7 kB/s eta 0:00:05\n",
      "     -----------------                        1.4/3.1 MB 375.7 kB/s eta 0:00:05\n",
      "     -----------------                        1.4/3.1 MB 370.6 kB/s eta 0:00:05\n",
      "     -----------------                        1.4/3.1 MB 369.9 kB/s eta 0:00:05\n",
      "     ------------------                       1.4/3.1 MB 372.2 kB/s eta 0:00:05\n",
      "     ------------------                       1.4/3.1 MB 371.8 kB/s eta 0:00:05\n",
      "     ------------------                       1.4/3.1 MB 371.8 kB/s eta 0:00:05\n",
      "     ------------------                       1.4/3.1 MB 371.8 kB/s eta 0:00:05\n",
      "     ------------------                       1.4/3.1 MB 371.8 kB/s eta 0:00:05\n",
      "     ------------------                       1.5/3.1 MB 363.0 kB/s eta 0:00:05\n",
      "     -------------------                      1.5/3.1 MB 365.3 kB/s eta 0:00:05\n",
      "     -------------------                      1.5/3.1 MB 365.3 kB/s eta 0:00:05\n",
      "     -------------------                      1.5/3.1 MB 362.2 kB/s eta 0:00:05\n",
      "     -------------------                      1.5/3.1 MB 359.0 kB/s eta 0:00:05\n",
      "     -------------------                      1.5/3.1 MB 357.5 kB/s eta 0:00:05\n",
      "     -------------------                      1.5/3.1 MB 357.5 kB/s eta 0:00:05\n",
      "     --------------------                     1.6/3.1 MB 359.2 kB/s eta 0:00:05\n",
      "     --------------------                     1.6/3.1 MB 357.7 kB/s eta 0:00:05\n",
      "     --------------------                     1.6/3.1 MB 357.7 kB/s eta 0:00:05\n",
      "     --------------------                     1.6/3.1 MB 357.1 kB/s eta 0:00:05\n",
      "     --------------------                     1.6/3.1 MB 359.1 kB/s eta 0:00:05\n",
      "     ---------------------                    1.7/3.1 MB 361.2 kB/s eta 0:00:05\n",
      "     ---------------------                    1.7/3.1 MB 361.6 kB/s eta 0:00:05\n",
      "     ---------------------                    1.7/3.1 MB 361.6 kB/s eta 0:00:05\n",
      "     ---------------------                    1.7/3.1 MB 362.2 kB/s eta 0:00:04\n",
      "     ---------------------                    1.7/3.1 MB 362.2 kB/s eta 0:00:04\n",
      "     ----------------------                   1.8/3.1 MB 362.7 kB/s eta 0:00:04\n",
      "     ----------------------                   1.8/3.1 MB 362.0 kB/s eta 0:00:04\n",
      "     ----------------------                   1.8/3.1 MB 362.0 kB/s eta 0:00:04\n",
      "     -----------------------                  1.8/3.1 MB 359.4 kB/s eta 0:00:04\n",
      "     -----------------------                  1.8/3.1 MB 361.1 kB/s eta 0:00:04\n",
      "     -----------------------                  1.9/3.1 MB 360.6 kB/s eta 0:00:04\n",
      "     -----------------------                  1.9/3.1 MB 360.6 kB/s eta 0:00:04\n",
      "     -----------------------                  1.9/3.1 MB 360.6 kB/s eta 0:00:04\n",
      "     -----------------------                  1.9/3.1 MB 356.1 kB/s eta 0:00:04\n",
      "     ------------------------                 1.9/3.1 MB 358.6 kB/s eta 0:00:04\n",
      "     ------------------------                 1.9/3.1 MB 358.6 kB/s eta 0:00:04\n",
      "     ------------------------                 1.9/3.1 MB 358.6 kB/s eta 0:00:04\n",
      "     ------------------------                 1.9/3.1 MB 358.6 kB/s eta 0:00:04\n",
      "     ------------------------                 1.9/3.1 MB 358.6 kB/s eta 0:00:04\n",
      "     ------------------------                 1.9/3.1 MB 347.2 kB/s eta 0:00:04\n",
      "     ------------------------                 1.9/3.1 MB 348.0 kB/s eta 0:00:04\n",
      "     -------------------------                2.0/3.1 MB 347.6 kB/s eta 0:00:04\n",
      "     -------------------------                2.0/3.1 MB 347.6 kB/s eta 0:00:04\n",
      "     -------------------------                2.0/3.1 MB 347.6 kB/s eta 0:00:04\n",
      "     -------------------------                2.0/3.1 MB 347.6 kB/s eta 0:00:04\n",
      "     -------------------------                2.0/3.1 MB 347.6 kB/s eta 0:00:04\n",
      "     -------------------------                2.0/3.1 MB 347.6 kB/s eta 0:00:04\n",
      "     -------------------------                2.0/3.1 MB 347.6 kB/s eta 0:00:04\n",
      "     -------------------------                2.0/3.1 MB 347.6 kB/s eta 0:00:04\n",
      "     -------------------------                2.0/3.1 MB 331.1 kB/s eta 0:00:04\n",
      "     -------------------------                2.0/3.1 MB 328.5 kB/s eta 0:00:04\n",
      "     -------------------------                2.0/3.1 MB 328.5 kB/s eta 0:00:04\n",
      "     -------------------------                2.0/3.1 MB 328.5 kB/s eta 0:00:04\n",
      "     -------------------------                2.0/3.1 MB 327.7 kB/s eta 0:00:04\n",
      "     --------------------------               2.1/3.1 MB 331.8 kB/s eta 0:00:04\n",
      "     --------------------------               2.1/3.1 MB 335.0 kB/s eta 0:00:04\n",
      "     ---------------------------              2.2/3.1 MB 339.0 kB/s eta 0:00:03\n",
      "     ---------------------------              2.2/3.1 MB 341.3 kB/s eta 0:00:03\n",
      "     ---------------------------              2.2/3.1 MB 342.1 kB/s eta 0:00:03\n",
      "     ----------------------------             2.2/3.1 MB 342.8 kB/s eta 0:00:03\n",
      "     ----------------------------             2.3/3.1 MB 343.4 kB/s eta 0:00:03\n",
      "     ----------------------------             2.3/3.1 MB 345.6 kB/s eta 0:00:03\n",
      "     -----------------------------            2.3/3.1 MB 347.1 kB/s eta 0:00:03\n",
      "     -----------------------------            2.3/3.1 MB 348.4 kB/s eta 0:00:03\n",
      "     -----------------------------            2.4/3.1 MB 349.1 kB/s eta 0:00:03\n",
      "     ------------------------------           2.4/3.1 MB 350.3 kB/s eta 0:00:03\n",
      "     ------------------------------           2.4/3.1 MB 351.8 kB/s eta 0:00:03\n",
      "     ------------------------------           2.4/3.1 MB 351.7 kB/s eta 0:00:03\n",
      "     -------------------------------          2.4/3.1 MB 352.9 kB/s eta 0:00:02\n",
      "     -------------------------------          2.5/3.1 MB 354.3 kB/s eta 0:00:02\n",
      "     -------------------------------          2.5/3.1 MB 354.3 kB/s eta 0:00:02\n",
      "     -------------------------------          2.5/3.1 MB 356.8 kB/s eta 0:00:02\n",
      "     --------------------------------         2.5/3.1 MB 355.9 kB/s eta 0:00:02\n",
      "     --------------------------------         2.6/3.1 MB 358.5 kB/s eta 0:00:02\n",
      "     --------------------------------         2.6/3.1 MB 358.4 kB/s eta 0:00:02\n",
      "     ---------------------------------        2.6/3.1 MB 359.5 kB/s eta 0:00:02\n",
      "     ---------------------------------        2.6/3.1 MB 360.8 kB/s eta 0:00:02\n",
      "     ---------------------------------        2.7/3.1 MB 362.1 kB/s eta 0:00:02\n",
      "     ----------------------------------       2.7/3.1 MB 362.4 kB/s eta 0:00:02\n",
      "     ----------------------------------       2.7/3.1 MB 363.0 kB/s eta 0:00:02\n",
      "     ----------------------------------       2.7/3.1 MB 364.7 kB/s eta 0:00:02\n",
      "     ----------------------------------       2.7/3.1 MB 364.5 kB/s eta 0:00:02\n",
      "     -----------------------------------      2.8/3.1 MB 365.6 kB/s eta 0:00:02\n",
      "     -----------------------------------      2.8/3.1 MB 366.8 kB/s eta 0:00:01\n",
      "     -----------------------------------      2.8/3.1 MB 368.0 kB/s eta 0:00:01\n",
      "     -----------------------------------      2.8/3.1 MB 368.0 kB/s eta 0:00:01\n",
      "     ------------------------------------     2.9/3.1 MB 368.6 kB/s eta 0:00:01\n",
      "     ------------------------------------     2.9/3.1 MB 369.8 kB/s eta 0:00:01\n",
      "     ------------------------------------     2.9/3.1 MB 368.9 kB/s eta 0:00:01\n",
      "     -------------------------------------    2.9/3.1 MB 370.6 kB/s eta 0:00:01\n",
      "     -------------------------------------    2.9/3.1 MB 371.7 kB/s eta 0:00:01\n",
      "     -------------------------------------    3.0/3.1 MB 372.7 kB/s eta 0:00:01\n",
      "     --------------------------------------   3.0/3.1 MB 373.8 kB/s eta 0:00:01\n",
      "     --------------------------------------   3.0/3.1 MB 374.0 kB/s eta 0:00:01\n",
      "     --------------------------------------   3.1/3.1 MB 375.0 kB/s eta 0:00:01\n",
      "     ---------------------------------------  3.1/3.1 MB 375.9 kB/s eta 0:00:01\n",
      "     ---------------------------------------  3.1/3.1 MB 375.1 kB/s eta 0:00:01\n",
      "     ---------------------------------------  3.1/3.1 MB 376.8 kB/s eta 0:00:01\n",
      "     ---------------------------------------  3.1/3.1 MB 377.0 kB/s eta 0:00:01\n",
      "     ---------------------------------------  3.1/3.1 MB 377.0 kB/s eta 0:00:01\n",
      "     ---------------------------------------- 3.1/3.1 MB 374.9 kB/s eta 0:00:00\n",
      "Requirement already satisfied: lxml>=5.3.0 in c:\\users\\hp\\onedrive\\desktop\\agentic ai\\langchain\\venv\\lib\\site-packages (from duckduckgo-search) (6.0.0)\n",
      "Requirement already satisfied: langchain-community<0.4.0,>=0.3.0 in c:\\users\\hp\\onedrive\\desktop\\agentic ai\\langchain\\venv\\lib\\site-packages (from langchain_experimental) (0.3.27)\n",
      "Requirement already satisfied: langchain-core<0.4.0,>=0.3.28 in c:\\users\\hp\\onedrive\\desktop\\agentic ai\\langchain\\venv\\lib\\site-packages (from langchain_experimental) (0.3.68)\n",
      "Requirement already satisfied: colorama in c:\\users\\hp\\onedrive\\desktop\\agentic ai\\langchain\\venv\\lib\\site-packages (from click>=8.1.8->duckduckgo-search) (0.4.6)\n",
      "Requirement already satisfied: langchain<1.0.0,>=0.3.26 in c:\\users\\hp\\onedrive\\desktop\\agentic ai\\langchain\\venv\\lib\\site-packages (from langchain-community<0.4.0,>=0.3.0->langchain_experimental) (0.3.26)\n",
      "Requirement already satisfied: SQLAlchemy<3,>=1.4 in c:\\users\\hp\\onedrive\\desktop\\agentic ai\\langchain\\venv\\lib\\site-packages (from langchain-community<0.4.0,>=0.3.0->langchain_experimental) (2.0.41)\n",
      "Requirement already satisfied: requests<3,>=2 in c:\\users\\hp\\onedrive\\desktop\\agentic ai\\langchain\\venv\\lib\\site-packages (from langchain-community<0.4.0,>=0.3.0->langchain_experimental) (2.32.4)\n",
      "Requirement already satisfied: PyYAML>=5.3 in c:\\users\\hp\\onedrive\\desktop\\agentic ai\\langchain\\venv\\lib\\site-packages (from langchain-community<0.4.0,>=0.3.0->langchain_experimental) (6.0.2)\n",
      "Requirement already satisfied: aiohttp<4.0.0,>=3.8.3 in c:\\users\\hp\\onedrive\\desktop\\agentic ai\\langchain\\venv\\lib\\site-packages (from langchain-community<0.4.0,>=0.3.0->langchain_experimental) (3.12.14)\n",
      "Requirement already satisfied: tenacity!=8.4.0,<10,>=8.1.0 in c:\\users\\hp\\onedrive\\desktop\\agentic ai\\langchain\\venv\\lib\\site-packages (from langchain-community<0.4.0,>=0.3.0->langchain_experimental) (9.1.2)\n",
      "Requirement already satisfied: dataclasses-json<0.7,>=0.5.7 in c:\\users\\hp\\onedrive\\desktop\\agentic ai\\langchain\\venv\\lib\\site-packages (from langchain-community<0.4.0,>=0.3.0->langchain_experimental) (0.6.7)\n",
      "Requirement already satisfied: pydantic-settings<3.0.0,>=2.4.0 in c:\\users\\hp\\onedrive\\desktop\\agentic ai\\langchain\\venv\\lib\\site-packages (from langchain-community<0.4.0,>=0.3.0->langchain_experimental) (2.10.1)\n",
      "Requirement already satisfied: langsmith>=0.1.125 in c:\\users\\hp\\onedrive\\desktop\\agentic ai\\langchain\\venv\\lib\\site-packages (from langchain-community<0.4.0,>=0.3.0->langchain_experimental) (0.4.5)\n",
      "Requirement already satisfied: httpx-sse<1.0.0,>=0.4.0 in c:\\users\\hp\\onedrive\\desktop\\agentic ai\\langchain\\venv\\lib\\site-packages (from langchain-community<0.4.0,>=0.3.0->langchain_experimental) (0.4.1)\n",
      "Requirement already satisfied: numpy>=1.26.2 in c:\\users\\hp\\onedrive\\desktop\\agentic ai\\langchain\\venv\\lib\\site-packages (from langchain-community<0.4.0,>=0.3.0->langchain_experimental) (1.26.4)\n",
      "Requirement already satisfied: jsonpatch<2.0,>=1.33 in c:\\users\\hp\\onedrive\\desktop\\agentic ai\\langchain\\venv\\lib\\site-packages (from langchain-core<0.4.0,>=0.3.28->langchain_experimental) (1.33)\n",
      "Requirement already satisfied: packaging<25,>=23.2 in c:\\users\\hp\\onedrive\\desktop\\agentic ai\\langchain\\venv\\lib\\site-packages (from langchain-core<0.4.0,>=0.3.28->langchain_experimental) (24.2)\n",
      "Requirement already satisfied: aiohappyeyeballs>=2.5.0 in c:\\users\\hp\\onedrive\\desktop\\agentic ai\\langchain\\venv\\lib\\site-packages (from aiohttp<4.0.0,>=3.8.3->langchain-community<0.4.0,>=0.3.0->langchain_experimental) (2.6.1)\n",
      "Requirement already satisfied: aiosignal>=1.4.0 in c:\\users\\hp\\onedrive\\desktop\\agentic ai\\langchain\\venv\\lib\\site-packages (from aiohttp<4.0.0,>=3.8.3->langchain-community<0.4.0,>=0.3.0->langchain_experimental) (1.4.0)\n",
      "Requirement already satisfied: attrs>=17.3.0 in c:\\users\\hp\\onedrive\\desktop\\agentic ai\\langchain\\venv\\lib\\site-packages (from aiohttp<4.0.0,>=3.8.3->langchain-community<0.4.0,>=0.3.0->langchain_experimental) (25.3.0)\n",
      "Requirement already satisfied: frozenlist>=1.1.1 in c:\\users\\hp\\onedrive\\desktop\\agentic ai\\langchain\\venv\\lib\\site-packages (from aiohttp<4.0.0,>=3.8.3->langchain-community<0.4.0,>=0.3.0->langchain_experimental) (1.7.0)\n",
      "Requirement already satisfied: multidict<7.0,>=4.5 in c:\\users\\hp\\onedrive\\desktop\\agentic ai\\langchain\\venv\\lib\\site-packages (from aiohttp<4.0.0,>=3.8.3->langchain-community<0.4.0,>=0.3.0->langchain_experimental) (6.6.3)\n",
      "Requirement already satisfied: propcache>=0.2.0 in c:\\users\\hp\\onedrive\\desktop\\agentic ai\\langchain\\venv\\lib\\site-packages (from aiohttp<4.0.0,>=3.8.3->langchain-community<0.4.0,>=0.3.0->langchain_experimental) (0.3.2)\n",
      "Requirement already satisfied: yarl<2.0,>=1.17.0 in c:\\users\\hp\\onedrive\\desktop\\agentic ai\\langchain\\venv\\lib\\site-packages (from aiohttp<4.0.0,>=3.8.3->langchain-community<0.4.0,>=0.3.0->langchain_experimental) (1.20.1)\n",
      "Requirement already satisfied: marshmallow<4.0.0,>=3.18.0 in c:\\users\\hp\\onedrive\\desktop\\agentic ai\\langchain\\venv\\lib\\site-packages (from dataclasses-json<0.7,>=0.5.7->langchain-community<0.4.0,>=0.3.0->langchain_experimental) (3.26.1)\n",
      "Requirement already satisfied: typing-inspect<1,>=0.4.0 in c:\\users\\hp\\onedrive\\desktop\\agentic ai\\langchain\\venv\\lib\\site-packages (from dataclasses-json<0.7,>=0.5.7->langchain-community<0.4.0,>=0.3.0->langchain_experimental) (0.9.0)\n",
      "Requirement already satisfied: jsonpointer>=1.9 in c:\\users\\hp\\onedrive\\desktop\\agentic ai\\langchain\\venv\\lib\\site-packages (from jsonpatch<2.0,>=1.33->langchain-core<0.4.0,>=0.3.28->langchain_experimental) (3.0.0)\n",
      "Requirement already satisfied: langchain-text-splitters<1.0.0,>=0.3.8 in c:\\users\\hp\\onedrive\\desktop\\agentic ai\\langchain\\venv\\lib\\site-packages (from langchain<1.0.0,>=0.3.26->langchain-community<0.4.0,>=0.3.0->langchain_experimental) (0.3.8)\n",
      "Requirement already satisfied: httpx<1,>=0.23.0 in c:\\users\\hp\\onedrive\\desktop\\agentic ai\\langchain\\venv\\lib\\site-packages (from langsmith>=0.1.125->langchain-community<0.4.0,>=0.3.0->langchain_experimental) (0.28.1)\n",
      "Requirement already satisfied: orjson<4.0.0,>=3.9.14 in c:\\users\\hp\\onedrive\\desktop\\agentic ai\\langchain\\venv\\lib\\site-packages (from langsmith>=0.1.125->langchain-community<0.4.0,>=0.3.0->langchain_experimental) (3.10.18)\n",
      "Requirement already satisfied: requests-toolbelt<2.0.0,>=1.0.0 in c:\\users\\hp\\onedrive\\desktop\\agentic ai\\langchain\\venv\\lib\\site-packages (from langsmith>=0.1.125->langchain-community<0.4.0,>=0.3.0->langchain_experimental) (1.0.0)\n",
      "Requirement already satisfied: zstandard<0.24.0,>=0.23.0 in c:\\users\\hp\\onedrive\\desktop\\agentic ai\\langchain\\venv\\lib\\site-packages (from langsmith>=0.1.125->langchain-community<0.4.0,>=0.3.0->langchain_experimental) (0.23.0)\n",
      "Requirement already satisfied: python-dotenv>=0.21.0 in c:\\users\\hp\\onedrive\\desktop\\agentic ai\\langchain\\venv\\lib\\site-packages (from pydantic-settings<3.0.0,>=2.4.0->langchain-community<0.4.0,>=0.3.0->langchain_experimental) (1.1.1)\n",
      "Requirement already satisfied: charset_normalizer<4,>=2 in c:\\users\\hp\\onedrive\\desktop\\agentic ai\\langchain\\venv\\lib\\site-packages (from requests<3,>=2->langchain-community<0.4.0,>=0.3.0->langchain_experimental) (3.4.2)\n",
      "Requirement already satisfied: idna<4,>=2.5 in c:\\users\\hp\\onedrive\\desktop\\agentic ai\\langchain\\venv\\lib\\site-packages (from requests<3,>=2->langchain-community<0.4.0,>=0.3.0->langchain_experimental) (3.10)\n",
      "Requirement already satisfied: urllib3<3,>=1.21.1 in c:\\users\\hp\\onedrive\\desktop\\agentic ai\\langchain\\venv\\lib\\site-packages (from requests<3,>=2->langchain-community<0.4.0,>=0.3.0->langchain_experimental) (2.5.0)\n",
      "Requirement already satisfied: certifi>=2017.4.17 in c:\\users\\hp\\onedrive\\desktop\\agentic ai\\langchain\\venv\\lib\\site-packages (from requests<3,>=2->langchain-community<0.4.0,>=0.3.0->langchain_experimental) (2025.7.9)\n",
      "Requirement already satisfied: greenlet>=1 in c:\\users\\hp\\onedrive\\desktop\\agentic ai\\langchain\\venv\\lib\\site-packages (from SQLAlchemy<3,>=1.4->langchain-community<0.4.0,>=0.3.0->langchain_experimental) (3.2.3)\n",
      "Requirement already satisfied: anyio in c:\\users\\hp\\onedrive\\desktop\\agentic ai\\langchain\\venv\\lib\\site-packages (from httpx<1,>=0.23.0->langsmith>=0.1.125->langchain-community<0.4.0,>=0.3.0->langchain_experimental) (4.9.0)\n",
      "Requirement already satisfied: httpcore==1.* in c:\\users\\hp\\onedrive\\desktop\\agentic ai\\langchain\\venv\\lib\\site-packages (from httpx<1,>=0.23.0->langsmith>=0.1.125->langchain-community<0.4.0,>=0.3.0->langchain_experimental) (1.0.9)\n",
      "Requirement already satisfied: h11>=0.16 in c:\\users\\hp\\onedrive\\desktop\\agentic ai\\langchain\\venv\\lib\\site-packages (from httpcore==1.*->httpx<1,>=0.23.0->langsmith>=0.1.125->langchain-community<0.4.0,>=0.3.0->langchain_experimental) (0.16.0)\n",
      "Requirement already satisfied: mypy-extensions>=0.3.0 in c:\\users\\hp\\onedrive\\desktop\\agentic ai\\langchain\\venv\\lib\\site-packages (from typing-inspect<1,>=0.4.0->dataclasses-json<0.7,>=0.5.7->langchain-community<0.4.0,>=0.3.0->langchain_experimental) (1.1.0)\n",
      "Requirement already satisfied: sniffio>=1.1 in c:\\users\\hp\\onedrive\\desktop\\agentic ai\\langchain\\venv\\lib\\site-packages (from anyio->httpx<1,>=0.23.0->langsmith>=0.1.125->langchain-community<0.4.0,>=0.3.0->langchain_experimental) (1.3.1)\n",
      "Installing collected packages: primp, duckduckgo-search, langchain_experimental\n",
      "Successfully installed duckduckgo-search-8.1.1 langchain_experimental-0.3.4 primp-0.15.0\n",
      "Note: you may need to restart the kernel to use updated packages.\n"
     ]
    },
    {
     "name": "stderr",
     "output_type": "stream",
     "text": [
      "\n",
      "[notice] A new release of pip is available: 23.1.2 -> 25.1.1\n",
      "[notice] To update, run: python.exe -m pip install --upgrade pip\n"
     ]
    }
   ],
   "source": [
    "%pip install pydantic duckduckgo-search langchain_experimental"
   ]
  },
  {
   "cell_type": "markdown",
   "id": "1fd69276",
   "metadata": {},
   "source": [
    "## Built-in Tool - DuckDuckGo Search\n",
    " "
   ]
  },
  {
   "cell_type": "code",
   "execution_count": 4,
   "id": "5776c859",
   "metadata": {},
   "outputs": [
    {
     "name": "stderr",
     "output_type": "stream",
     "text": [
      "c:\\Users\\hp\\OneDrive\\Desktop\\AGENTIC AI\\Langchain\\venv\\Lib\\site-packages\\langchain_community\\utilities\\duckduckgo_search.py:63: RuntimeWarning: This package (`duckduckgo_search`) has been renamed to `ddgs`! Use `pip install ddgs` instead.\n",
      "  with DDGS() as ddgs:\n"
     ]
    },
    {
     "name": "stdout",
     "output_type": "stream",
     "text": [
      "Tops - Shop from latest collection of Top Online in India. Get tube, maxi, kaftan, tank, peplum, wrap & more types of women & girls Tops at Myntra Top Brands Tops - Shop Tops at India's Best Online Shopping Store. Check Price and Buy Online. Free Shipping Cash on Delivery Best Offers Huge collection of women's tops at low offer price & discounts at COD, Easy Returns & Exchanges. Order Now. Browse our complete collection of women's tops, from basic vests and T-shirts for every day to glitzy night-out styles and smart … Shop Tops for Women online at AND India. Explore a stylish collection of Ladies' Tops and Shirts, including trendy Floral Tops for Women, perfect for refreshing your wardrobe.\n"
     ]
    }
   ],
   "source": [
    "from langchain_community.tools import DuckDuckGoSearchRun\n",
    "\n",
    "search_tool = DuckDuckGoSearchRun()\n",
    "\n",
    "results = search_tool.invoke('top news in india today')\n",
    "\n",
    "print(results)"
   ]
  },
  {
   "cell_type": "code",
   "execution_count": 5,
   "id": "3c3c57b7",
   "metadata": {},
   "outputs": [
    {
     "name": "stdout",
     "output_type": "stream",
     "text": [
      "duckduckgo_search\n",
      "A wrapper around DuckDuckGo Search. Useful for when you need to answer questions about current events. Input should be a search query.\n",
      "{'query': {'description': 'search query to look up', 'title': 'Query', 'type': 'string'}}\n"
     ]
    }
   ],
   "source": [
    "print(search_tool.name)\n",
    "print(search_tool.description)\n",
    "print(search_tool.args)"
   ]
  },
  {
   "cell_type": "markdown",
   "id": "61b1991d",
   "metadata": {},
   "source": [
    "## Custom Tools"
   ]
  },
  {
   "cell_type": "code",
   "execution_count": 6,
   "id": "a0830122",
   "metadata": {},
   "outputs": [],
   "source": [
    "from langchain_core.tools import tool"
   ]
  },
  {
   "cell_type": "code",
   "execution_count": 7,
   "id": "ba9626d9",
   "metadata": {},
   "outputs": [],
   "source": [
    "# Step 1 - create a function\n",
    "\n",
    "def multiply(a, b):\n",
    "    \"\"\"Multiply two numbers\"\"\"\n",
    "    return a*b"
   ]
  },
  {
   "cell_type": "code",
   "execution_count": 10,
   "id": "a43fe575",
   "metadata": {},
   "outputs": [],
   "source": [
    "# Step 2 - add type hints\n",
    "@tool\n",
    "def multiply(a: int, b:int) -> int:\n",
    "    \"\"\"Multiply two numbers\"\"\"\n",
    "    return a*b"
   ]
  },
  {
   "cell_type": "code",
   "execution_count": 11,
   "id": "b4d13842",
   "metadata": {},
   "outputs": [],
   "source": [
    "result = multiply.invoke({\"a\":3, \"b\":5})"
   ]
  },
  {
   "cell_type": "code",
   "execution_count": 12,
   "id": "6c470576",
   "metadata": {},
   "outputs": [
    {
     "name": "stdout",
     "output_type": "stream",
     "text": [
      "15\n"
     ]
    }
   ],
   "source": [
    "print(result)"
   ]
  },
  {
   "cell_type": "code",
   "execution_count": 13,
   "id": "061e92e2",
   "metadata": {},
   "outputs": [
    {
     "name": "stdout",
     "output_type": "stream",
     "text": [
      "multiply\n",
      "Multiply two numbers\n",
      "{'a': {'title': 'A', 'type': 'integer'}, 'b': {'title': 'B', 'type': 'integer'}}\n"
     ]
    }
   ],
   "source": [
    "print(multiply.name)\n",
    "print(multiply.description)\n",
    "print(multiply.args)"
   ]
  },
  {
   "cell_type": "code",
   "execution_count": 14,
   "id": "5e055e40",
   "metadata": {},
   "outputs": [
    {
     "name": "stdout",
     "output_type": "stream",
     "text": [
      "{'description': 'Multiply two numbers', 'properties': {'a': {'title': 'A', 'type': 'integer'}, 'b': {'title': 'B', 'type': 'integer'}}, 'required': ['a', 'b'], 'title': 'multiply', 'type': 'object'}\n"
     ]
    }
   ],
   "source": [
    "print(multiply.args_schema.model_json_schema())"
   ]
  },
  {
   "cell_type": "markdown",
   "id": "899e2c06",
   "metadata": {},
   "source": [
    "## Method 2 - Using StructuredTool"
   ]
  },
  {
   "cell_type": "code",
   "execution_count": 15,
   "id": "ae2a9c87",
   "metadata": {},
   "outputs": [],
   "source": [
    "from langchain.tools import StructuredTool\n",
    "from pydantic import BaseModel, Field"
   ]
  },
  {
   "cell_type": "code",
   "execution_count": 16,
   "id": "691cae3e",
   "metadata": {},
   "outputs": [
    {
     "name": "stderr",
     "output_type": "stream",
     "text": [
      "c:\\Users\\hp\\OneDrive\\Desktop\\AGENTIC AI\\Langchain\\venv\\Lib\\site-packages\\pydantic\\fields.py:1093: PydanticDeprecatedSince20: Using extra keyword arguments on `Field` is deprecated and will be removed. Use `json_schema_extra` instead. (Extra keys: 'required'). Deprecated in Pydantic V2.0 to be removed in V3.0. See Pydantic V2 Migration Guide at https://errors.pydantic.dev/2.11/migration/\n",
      "  warn(\n",
      "c:\\Users\\hp\\OneDrive\\Desktop\\AGENTIC AI\\Langchain\\venv\\Lib\\site-packages\\pydantic\\fields.py:1093: PydanticDeprecatedSince20: Using extra keyword arguments on `Field` is deprecated and will be removed. Use `json_schema_extra` instead. (Extra keys: 'required'). Deprecated in Pydantic V2.0 to be removed in V3.0. See Pydantic V2 Migration Guide at https://errors.pydantic.dev/2.11/migration/\n",
      "  warn(\n"
     ]
    }
   ],
   "source": [
    "class MultiplyInput(BaseModel):\n",
    "    a: int = Field(required=True, description=\"The first number to add\")\n",
    "    b: int = Field(required=True, description=\"The second number to add\")"
   ]
  },
  {
   "cell_type": "code",
   "execution_count": 17,
   "id": "6dcc7458",
   "metadata": {},
   "outputs": [],
   "source": [
    "def multiply_func(a: int, b: int) -> int:\n",
    "    return a * b"
   ]
  },
  {
   "cell_type": "code",
   "execution_count": 18,
   "id": "3512f894",
   "metadata": {},
   "outputs": [],
   "source": [
    "multiply_tool = StructuredTool.from_function(\n",
    "    func=multiply_func,\n",
    "    name=\"multiply\",\n",
    "    description=\"Multiply two numbers\",\n",
    "    args_schema=MultiplyInput\n",
    ")"
   ]
  },
  {
   "cell_type": "code",
   "execution_count": 19,
   "id": "ee14b9b5",
   "metadata": {},
   "outputs": [
    {
     "name": "stdout",
     "output_type": "stream",
     "text": [
      "9\n",
      "multiply\n",
      "Multiply two numbers\n",
      "{'a': {'description': 'The first number to add', 'required': True, 'title': 'A', 'type': 'integer'}, 'b': {'description': 'The second number to add', 'required': True, 'title': 'B', 'type': 'integer'}}\n"
     ]
    }
   ],
   "source": [
    "result = multiply_tool.invoke({'a':3, 'b':3})\n",
    "\n",
    "print(result)\n",
    "print(multiply_tool.name)\n",
    "print(multiply_tool.description)\n",
    "print(multiply_tool.args)"
   ]
  },
  {
   "cell_type": "markdown",
   "id": "0433fd2a",
   "metadata": {},
   "source": [
    "## Toolkit"
   ]
  },
  {
   "cell_type": "code",
   "execution_count": 20,
   "id": "8b3c99ef",
   "metadata": {},
   "outputs": [],
   "source": [
    "from langchain_core.tools import tool\n",
    "\n",
    "# Custom tools\n",
    "@tool\n",
    "def add(a: int, b: int) -> int:\n",
    "    \"\"\"Add two numbers\"\"\"\n",
    "    return a + b\n",
    "\n",
    "@tool\n",
    "def multiply(a: int, b: int) -> int:\n",
    "    \"\"\"Multiply two numbers\"\"\"\n",
    "    return a * b\n"
   ]
  },
  {
   "cell_type": "code",
   "execution_count": 21,
   "id": "123aa8e2",
   "metadata": {},
   "outputs": [],
   "source": [
    "class MathToolkit:\n",
    "    def get_tools(self):\n",
    "        return [add, multiply]\n"
   ]
  },
  {
   "cell_type": "code",
   "execution_count": 22,
   "id": "a5eb02b7",
   "metadata": {},
   "outputs": [
    {
     "name": "stdout",
     "output_type": "stream",
     "text": [
      "add => Add two numbers\n",
      "multiply => Multiply two numbers\n"
     ]
    }
   ],
   "source": [
    "toolkit = MathToolkit()\n",
    "tools = toolkit.get_tools()\n",
    "\n",
    "for tool in tools:\n",
    "    print(tool.name, \"=>\", tool.description)\n"
   ]
  },
  {
   "cell_type": "code",
   "execution_count": null,
   "id": "1a9d4961",
   "metadata": {},
   "outputs": [],
   "source": []
  },
  {
   "cell_type": "code",
   "execution_count": null,
   "id": "023f79fb",
   "metadata": {},
   "outputs": [],
   "source": []
  }
 ],
 "metadata": {
  "kernelspec": {
   "display_name": "venv",
   "language": "python",
   "name": "python3"
  },
  "language_info": {
   "codemirror_mode": {
    "name": "ipython",
    "version": 3
   },
   "file_extension": ".py",
   "mimetype": "text/x-python",
   "name": "python",
   "nbconvert_exporter": "python",
   "pygments_lexer": "ipython3",
   "version": "3.11.4"
  }
 },
 "nbformat": 4,
 "nbformat_minor": 5
}
