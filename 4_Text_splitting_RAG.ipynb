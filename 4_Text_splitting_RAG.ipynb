{
 "cells": [
  {
   "cell_type": "code",
   "execution_count": 1,
   "id": "97a628f7",
   "metadata": {},
   "outputs": [],
   "source": [
    "from langchain.text_splitter import CharacterTextSplitter\n",
    "from langchain_groq import ChatGroq\n",
    "from langchain_community.document_loaders import TextLoader\n",
    "from dotenv import load_dotenv\n",
    "load_dotenv()\n",
    "import os\n",
    "GROQ_API_KEY=os.getenv(\"GROQ_API_KEY\")"
   ]
  },
  {
   "cell_type": "code",
   "execution_count": 2,
   "id": "39484de7",
   "metadata": {},
   "outputs": [],
   "source": [
    "from langchain_community.document_loaders import TextLoader\n",
    "\n",
    "loader=TextLoader(\"DATA/example.txt\")\n",
    "\n",
    "docs=loader.load()"
   ]
  },
  {
   "cell_type": "markdown",
   "id": "79b97d52",
   "metadata": {},
   "source": [
    "# length based text splitting"
   ]
  },
  {
   "cell_type": "code",
   "execution_count": 3,
   "id": "2cf8d6de",
   "metadata": {},
   "outputs": [
    {
     "name": "stdout",
     "output_type": "stream",
     "text": [
      "[Document(metadata={'source': 'DATA/example.txt'}, page_content='DATA SCIENCE & AI-ML ROADMAP\\n1.PYTHON- CODE & DEBUG\\n2.pandas,numpy-YOUTUBE VIDEO SEE ANYONE\\n3.EDA+FE'), Document(metadata={'source': 'DATA/example.txt'}, page_content='ATURE ENGINEERING-KRISH NAIK\\n4.ML-KRISH NAIK OR CAMPUSX\\n-ML END TO END PROJECTS-KRISH NAIK OR BAPPY'), Document(metadata={'source': 'DATA/example.txt'}, page_content='OR SUNNY SAVITA\\n5.DL-KRISH NAIK OR CAMPUSX\\n-DL END TO END PROJECT-KRISH NAIK OR BAPPY OR SUNNY SAVIT'), Document(metadata={'source': 'DATA/example.txt'}, page_content='A\\n6.CV-BAPPY VIDEOS\\n-CV PROJECT-BAPPY\\n7.NLP-KRISH NAIK\\n-NLP PROJECT-KRISH NAIK OR ANYONE\\n8.TRANSFORM'), Document(metadata={'source': 'DATA/example.txt'}, page_content='ER-CODE WITH AROHI OR CAMPUSX\\n9.GANARATIVE AI-KRISH NAIK OR BAPPY OR SUNNY SAVITA OR CAMPUSX\\n-RAG,LA'), Document(metadata={'source': 'DATA/example.txt'}, page_content='NGCHIN\\n10.AGENTIC AI-KRISH NAIK OR SUNNY SAVITA OR CODE WITH AROHI OR CAMPUSX\\n-LANGRAPH,CREAI...')]\n"
     ]
    }
   ],
   "source": [
    "splitter=CharacterTextSplitter(\n",
    "    chunk_size=100,\n",
    "    chunk_overlap=0,\n",
    "    separator=''\n",
    ")\n",
    "\n",
    "chunk=splitter.split_documents(docs)\n",
    "\n",
    "print(chunk)"
   ]
  },
  {
   "cell_type": "code",
   "execution_count": 4,
   "id": "7fba6d63",
   "metadata": {},
   "outputs": [
    {
     "data": {
      "text/plain": [
       "'DATA SCIENCE & AI-ML ROADMAP\\n1.PYTHON- CODE & DEBUG\\n2.pandas,numpy-YOUTUBE VIDEO SEE ANYONE\\n3.EDA+FE'"
      ]
     },
     "execution_count": 4,
     "metadata": {},
     "output_type": "execute_result"
    }
   ],
   "source": [
    "chunk[0].page_content"
   ]
  },
  {
   "cell_type": "code",
   "execution_count": 5,
   "id": "90f599a0",
   "metadata": {},
   "outputs": [
    {
     "data": {
      "text/plain": [
       "6"
      ]
     },
     "execution_count": 5,
     "metadata": {},
     "output_type": "execute_result"
    }
   ],
   "source": [
    "len(chunk)"
   ]
  },
  {
   "cell_type": "markdown",
   "id": "4bd82d38",
   "metadata": {},
   "source": [
    "# recursive text splitter-text sturucture based"
   ]
  },
  {
   "cell_type": "code",
   "execution_count": 6,
   "id": "0e37a6ae",
   "metadata": {},
   "outputs": [
    {
     "name": "stdout",
     "output_type": "stream",
     "text": [
      "[Document(metadata={'source': 'DATA/example.txt'}, page_content='DATA SCIENCE & AI-ML ROADMAP\\n1.PYTHON- CODE & DEBUG\\n2.pandas,numpy-YOUTUBE VIDEO SEE ANYONE'), Document(metadata={'source': 'DATA/example.txt'}, page_content='3.EDA+FEATURE ENGINEERING-KRISH NAIK\\n4.ML-KRISH NAIK OR CAMPUSX'), Document(metadata={'source': 'DATA/example.txt'}, page_content='-ML END TO END PROJECTS-KRISH NAIK OR BAPPY OR SUNNY SAVITA\\n5.DL-KRISH NAIK OR CAMPUSX'), Document(metadata={'source': 'DATA/example.txt'}, page_content='-DL END TO END PROJECT-KRISH NAIK OR BAPPY OR SUNNY SAVITA\\n6.CV-BAPPY VIDEOS\\n-CV PROJECT-BAPPY'), Document(metadata={'source': 'DATA/example.txt'}, page_content='7.NLP-KRISH NAIK\\n-NLP PROJECT-KRISH NAIK OR ANYONE\\n8.TRANSFORMER-CODE WITH AROHI OR CAMPUSX'), Document(metadata={'source': 'DATA/example.txt'}, page_content='9.GANARATIVE AI-KRISH NAIK OR BAPPY OR SUNNY SAVITA OR CAMPUSX\\n-RAG,LANGCHIN'), Document(metadata={'source': 'DATA/example.txt'}, page_content='10.AGENTIC AI-KRISH NAIK OR SUNNY SAVITA OR CODE WITH AROHI OR CAMPUSX\\n-LANGRAPH,CREAI...')]\n"
     ]
    }
   ],
   "source": [
    "from langchain.text_splitter import RecursiveCharacterTextSplitter\n",
    "\n",
    "splitter=RecursiveCharacterTextSplitter(\n",
    "    chunk_size=100,\n",
    "    chunk_overlap=0,\n",
    "    separators=\"\\n\"\n",
    ")\n",
    "\n",
    "chunk=splitter.split_documents(docs)\n",
    "\n",
    "print(chunk)"
   ]
  },
  {
   "cell_type": "code",
   "execution_count": 7,
   "id": "1c70bcd4",
   "metadata": {},
   "outputs": [
    {
     "data": {
      "text/plain": [
       "'DATA SCIENCE & AI-ML ROADMAP\\n1.PYTHON- CODE & DEBUG\\n2.pandas,numpy-YOUTUBE VIDEO SEE ANYONE'"
      ]
     },
     "execution_count": 7,
     "metadata": {},
     "output_type": "execute_result"
    }
   ],
   "source": [
    "chunk[0].page_content"
   ]
  },
  {
   "cell_type": "markdown",
   "id": "db207177",
   "metadata": {},
   "source": [
    "# Document-structure based text splitting"
   ]
  },
  {
   "cell_type": "code",
   "execution_count": 8,
   "id": "8c8cf58c",
   "metadata": {},
   "outputs": [],
   "source": [
    "text='''class Person:\n",
    "    def __init__(self, name, age):\n",
    "        self.name = name\n",
    "        self.age = age\n",
    "\n",
    "    def greet(self):\n",
    "        print(f\"Hello, my name is {self.name} and I am {self.age} years old.\")\n",
    "\n",
    "# Create an object (instance) of the class\n",
    "person1 = Person(\"Raghav\", 25)\n",
    "\n",
    "# Call a method\n",
    "person1.greet()'''"
   ]
  },
  {
   "cell_type": "code",
   "execution_count": 9,
   "id": "9d170647",
   "metadata": {},
   "outputs": [
    {
     "name": "stdout",
     "output_type": "stream",
     "text": [
      "['class Person:\\n    def __init__(self, name, age):\\n        self.name = name\\n        self.age = age\\n\\n    def greet(self):\\n        print(f\"Hello, my name is {self.name} and I am {self.age} years old.\")', '# Create an object (instance) of the class\\nperson1 = Person(\"Raghav\", 25)\\n\\n# Call a method\\nperson1.greet()']\n"
     ]
    }
   ],
   "source": [
    "from langchain.text_splitter import RecursiveCharacterTextSplitter,Language\n",
    "\n",
    "splitter=RecursiveCharacterTextSplitter.from_language(\n",
    "    language=Language.PYTHON,\n",
    "    chunk_size=250,\n",
    "    chunk_overlap=0\n",
    ")\n",
    "\n",
    "chunk=splitter.split_text(text)\n",
    "\n",
    "print(chunk)"
   ]
  },
  {
   "cell_type": "code",
   "execution_count": 10,
   "id": "4f0422a2",
   "metadata": {},
   "outputs": [
    {
     "name": "stdout",
     "output_type": "stream",
     "text": [
      "class Person:\n",
      "    def __init__(self, name, age):\n",
      "        self.name = name\n",
      "        self.age = age\n",
      "\n",
      "    def greet(self):\n",
      "        print(f\"Hello, my name is {self.name} and I am {self.age} years old.\")\n"
     ]
    }
   ],
   "source": [
    "print(chunk[0])"
   ]
  },
  {
   "cell_type": "code",
   "execution_count": 11,
   "id": "9f8dbb9d",
   "metadata": {},
   "outputs": [
    {
     "name": "stdout",
     "output_type": "stream",
     "text": [
      "# Create an object (instance) of the class\n",
      "person1 = Person(\"Raghav\", 25)\n",
      "\n",
      "# Call a method\n",
      "person1.greet()\n"
     ]
    }
   ],
   "source": [
    "print(chunk[1])"
   ]
  },
  {
   "cell_type": "code",
   "execution_count": null,
   "id": "4fd7447e",
   "metadata": {},
   "outputs": [],
   "source": []
  }
 ],
 "metadata": {
  "kernelspec": {
   "display_name": "venv",
   "language": "python",
   "name": "python3"
  },
  "language_info": {
   "codemirror_mode": {
    "name": "ipython",
    "version": 3
   },
   "file_extension": ".py",
   "mimetype": "text/x-python",
   "name": "python",
   "nbconvert_exporter": "python",
   "pygments_lexer": "ipython3",
   "version": "3.11.4"
  }
 },
 "nbformat": 4,
 "nbformat_minor": 5
}
