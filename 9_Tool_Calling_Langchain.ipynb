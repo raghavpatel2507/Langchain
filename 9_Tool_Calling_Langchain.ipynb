{
 "cells": [
  {
   "cell_type": "code",
   "execution_count": 21,
   "id": "46adbd15",
   "metadata": {},
   "outputs": [],
   "source": [
    "from dotenv import load_dotenv\n",
    "load_dotenv()\n",
    "import os\n",
    "GROQ_API_KEY=os.getenv(\"GROQ_API_KEY\")\n",
    "from langchain_groq import ChatGroq\n",
    "llm = ChatGroq(model_name=\"llama3-8b-8192\", groq_api_key=GROQ_API_KEY)"
   ]
  },
  {
   "cell_type": "code",
   "execution_count": 2,
   "id": "8bc1f36a",
   "metadata": {},
   "outputs": [],
   "source": [
    "from langchain_core.tools import tool\n",
    "from langchain_core.messages import HumanMessage\n",
    "import requests"
   ]
  },
  {
   "cell_type": "code",
   "execution_count": 3,
   "id": "60f56236",
   "metadata": {},
   "outputs": [],
   "source": [
    "# tool create\n",
    "\n",
    "@tool\n",
    "def multiply(a: int, b: int) -> int:\n",
    "  \"\"\"Given 2 numbers a and b this tool returns their product\"\"\"\n",
    "  return a * b"
   ]
  },
  {
   "cell_type": "code",
   "execution_count": 4,
   "id": "de26ae12",
   "metadata": {},
   "outputs": [
    {
     "name": "stdout",
     "output_type": "stream",
     "text": [
      "12\n"
     ]
    }
   ],
   "source": [
    "print(multiply.invoke({'a':3, 'b':4}))"
   ]
  },
  {
   "cell_type": "code",
   "execution_count": 5,
   "id": "28660456",
   "metadata": {},
   "outputs": [
    {
     "data": {
      "text/plain": [
       "'multiply'"
      ]
     },
     "execution_count": 5,
     "metadata": {},
     "output_type": "execute_result"
    }
   ],
   "source": [
    "multiply.name"
   ]
  },
  {
   "cell_type": "code",
   "execution_count": 6,
   "id": "4f7ac497",
   "metadata": {},
   "outputs": [
    {
     "data": {
      "text/plain": [
       "'Given 2 numbers a and b this tool returns their product'"
      ]
     },
     "execution_count": 6,
     "metadata": {},
     "output_type": "execute_result"
    }
   ],
   "source": [
    "multiply.description"
   ]
  },
  {
   "cell_type": "code",
   "execution_count": 7,
   "id": "cd75cf0c",
   "metadata": {},
   "outputs": [
    {
     "data": {
      "text/plain": [
       "{'a': {'title': 'A', 'type': 'integer'},\n",
       " 'b': {'title': 'B', 'type': 'integer'}}"
      ]
     },
     "execution_count": 7,
     "metadata": {},
     "output_type": "execute_result"
    }
   ],
   "source": [
    "multiply.args"
   ]
  },
  {
   "cell_type": "code",
   "execution_count": 8,
   "id": "46524549",
   "metadata": {},
   "outputs": [],
   "source": [
    "llm_with_tools = llm.bind_tools([multiply])"
   ]
  },
  {
   "cell_type": "code",
   "execution_count": 9,
   "id": "7c53a6b1",
   "metadata": {},
   "outputs": [
    {
     "data": {
      "text/plain": [
       "AIMessage(content='<tool-use>\\n{\\n\\t\"tool_calls\": []\\n}\\n</tool-use>', additional_kwargs={}, response_metadata={'token_usage': {'completion_tokens': 17, 'prompt_tokens': 904, 'total_tokens': 921, 'completion_time': 0.01176856, 'prompt_time': 0.137298796, 'queue_time': 0.380537533, 'total_time': 0.149067356}, 'model_name': 'llama3-8b-8192', 'system_fingerprint': 'fp_bc17983608', 'service_tier': 'on_demand', 'finish_reason': 'stop', 'logprobs': None}, id='run--5e8e28f3-800c-47e3-82f7-55a9bd27fb8d-0', usage_metadata={'input_tokens': 904, 'output_tokens': 17, 'total_tokens': 921})"
      ]
     },
     "execution_count": 9,
     "metadata": {},
     "output_type": "execute_result"
    }
   ],
   "source": [
    "llm_with_tools.invoke('Hi how are you')"
   ]
  },
  {
   "cell_type": "code",
   "execution_count": 10,
   "id": "7ad685fd",
   "metadata": {},
   "outputs": [],
   "source": [
    "query = HumanMessage('can you multiply 3 with 1000')"
   ]
  },
  {
   "cell_type": "code",
   "execution_count": 11,
   "id": "6b77c628",
   "metadata": {},
   "outputs": [
    {
     "data": {
      "text/plain": [
       "HumanMessage(content='can you multiply 3 with 1000', additional_kwargs={}, response_metadata={})"
      ]
     },
     "execution_count": 11,
     "metadata": {},
     "output_type": "execute_result"
    }
   ],
   "source": [
    "query"
   ]
  },
  {
   "cell_type": "code",
   "execution_count": 12,
   "id": "fabc1be9",
   "metadata": {},
   "outputs": [],
   "source": [
    "messages = [query]"
   ]
  },
  {
   "cell_type": "code",
   "execution_count": 13,
   "id": "1d251a20",
   "metadata": {},
   "outputs": [],
   "source": [
    "result = llm_with_tools.invoke(messages)"
   ]
  },
  {
   "cell_type": "code",
   "execution_count": 14,
   "id": "9a70685c",
   "metadata": {},
   "outputs": [
    {
     "data": {
      "text/plain": [
       "AIMessage(content='', additional_kwargs={'tool_calls': [{'id': 'ka61r41cx', 'function': {'arguments': '{\"a\":3,\"b\":1000}', 'name': 'multiply'}, 'type': 'function'}]}, response_metadata={'token_usage': {'completion_tokens': 73, 'prompt_tokens': 909, 'total_tokens': 982, 'completion_time': 0.050115902, 'prompt_time': 0.100089496, 'queue_time': 0.280105882, 'total_time': 0.150205398}, 'model_name': 'llama3-8b-8192', 'system_fingerprint': 'fp_bc17983608', 'service_tier': 'on_demand', 'finish_reason': 'tool_calls', 'logprobs': None}, id='run--8dba27f2-00d3-4b78-a30e-b6e31c5562df-0', tool_calls=[{'name': 'multiply', 'args': {'a': 3, 'b': 1000}, 'id': 'ka61r41cx', 'type': 'tool_call'}], usage_metadata={'input_tokens': 909, 'output_tokens': 73, 'total_tokens': 982})"
      ]
     },
     "execution_count": 14,
     "metadata": {},
     "output_type": "execute_result"
    }
   ],
   "source": [
    "result"
   ]
  },
  {
   "cell_type": "code",
   "execution_count": 15,
   "id": "978f7c37",
   "metadata": {},
   "outputs": [],
   "source": [
    "messages.append(result)"
   ]
  },
  {
   "cell_type": "code",
   "execution_count": 16,
   "id": "4daa018e",
   "metadata": {},
   "outputs": [
    {
     "data": {
      "text/plain": [
       "[HumanMessage(content='can you multiply 3 with 1000', additional_kwargs={}, response_metadata={}),\n",
       " AIMessage(content='', additional_kwargs={'tool_calls': [{'id': 'ka61r41cx', 'function': {'arguments': '{\"a\":3,\"b\":1000}', 'name': 'multiply'}, 'type': 'function'}]}, response_metadata={'token_usage': {'completion_tokens': 73, 'prompt_tokens': 909, 'total_tokens': 982, 'completion_time': 0.050115902, 'prompt_time': 0.100089496, 'queue_time': 0.280105882, 'total_time': 0.150205398}, 'model_name': 'llama3-8b-8192', 'system_fingerprint': 'fp_bc17983608', 'service_tier': 'on_demand', 'finish_reason': 'tool_calls', 'logprobs': None}, id='run--8dba27f2-00d3-4b78-a30e-b6e31c5562df-0', tool_calls=[{'name': 'multiply', 'args': {'a': 3, 'b': 1000}, 'id': 'ka61r41cx', 'type': 'tool_call'}], usage_metadata={'input_tokens': 909, 'output_tokens': 73, 'total_tokens': 982})]"
      ]
     },
     "execution_count": 16,
     "metadata": {},
     "output_type": "execute_result"
    }
   ],
   "source": [
    "messages"
   ]
  },
  {
   "cell_type": "code",
   "execution_count": 17,
   "id": "140ca99f",
   "metadata": {},
   "outputs": [],
   "source": [
    "tool_result = multiply.invoke(result.tool_calls[0])"
   ]
  },
  {
   "cell_type": "code",
   "execution_count": 18,
   "id": "991c5a92",
   "metadata": {},
   "outputs": [],
   "source": [
    "messages.append(tool_result)"
   ]
  },
  {
   "cell_type": "code",
   "execution_count": 19,
   "id": "9f1854a5",
   "metadata": {},
   "outputs": [
    {
     "data": {
      "text/plain": [
       "[HumanMessage(content='can you multiply 3 with 1000', additional_kwargs={}, response_metadata={}),\n",
       " AIMessage(content='', additional_kwargs={'tool_calls': [{'id': 'ka61r41cx', 'function': {'arguments': '{\"a\":3,\"b\":1000}', 'name': 'multiply'}, 'type': 'function'}]}, response_metadata={'token_usage': {'completion_tokens': 73, 'prompt_tokens': 909, 'total_tokens': 982, 'completion_time': 0.050115902, 'prompt_time': 0.100089496, 'queue_time': 0.280105882, 'total_time': 0.150205398}, 'model_name': 'llama3-8b-8192', 'system_fingerprint': 'fp_bc17983608', 'service_tier': 'on_demand', 'finish_reason': 'tool_calls', 'logprobs': None}, id='run--8dba27f2-00d3-4b78-a30e-b6e31c5562df-0', tool_calls=[{'name': 'multiply', 'args': {'a': 3, 'b': 1000}, 'id': 'ka61r41cx', 'type': 'tool_call'}], usage_metadata={'input_tokens': 909, 'output_tokens': 73, 'total_tokens': 982}),\n",
       " ToolMessage(content='3000', name='multiply', tool_call_id='ka61r41cx')]"
      ]
     },
     "execution_count": 19,
     "metadata": {},
     "output_type": "execute_result"
    }
   ],
   "source": [
    "messages"
   ]
  },
  {
   "cell_type": "code",
   "execution_count": 20,
   "id": "bf0f5f02",
   "metadata": {},
   "outputs": [
    {
     "data": {
      "text/plain": [
       "''"
      ]
     },
     "execution_count": 20,
     "metadata": {},
     "output_type": "execute_result"
    }
   ],
   "source": [
    "llm_with_tools.invoke(messages).content"
   ]
  },
  {
   "cell_type": "code",
   "execution_count": 22,
   "id": "4b3348b8",
   "metadata": {},
   "outputs": [
    {
     "name": "stdout",
     "output_type": "stream",
     "text": [
      "MODEL RESPONSE: content='' additional_kwargs={'tool_calls': [{'id': '8fdq1a9x1', 'function': {'arguments': '{\"a\":3,\"b\":1000}', 'name': 'multiply'}, 'type': 'function'}]} response_metadata={'token_usage': {'completion_tokens': 73, 'prompt_tokens': 909, 'total_tokens': 982, 'completion_time': 0.050874459, 'prompt_time': 0.100705459, 'queue_time': 0.284618169, 'total_time': 0.151579918}, 'model_name': 'llama3-8b-8192', 'system_fingerprint': 'fp_bc17983608', 'service_tier': 'on_demand', 'finish_reason': 'tool_calls', 'logprobs': None} id='run--c4987bdd-be6a-4747-87ba-86e1c5b7699f-0' tool_calls=[{'name': 'multiply', 'args': {'a': 3, 'b': 1000}, 'id': '8fdq1a9x1', 'type': 'tool_call'}] usage_metadata={'input_tokens': 909, 'output_tokens': 73, 'total_tokens': 982}\n",
      "TOOL CALL: {'name': 'multiply', 'args': {'a': 3, 'b': 1000}, 'id': '8fdq1a9x1', 'type': 'tool_call'}\n",
      "TOOL OUTPUT: content='3000' name='multiply' tool_call_id='8fdq1a9x1'\n",
      "FINAL ANSWER: \n"
     ]
    }
   ],
   "source": [
    "from dotenv import load_dotenv\n",
    "import os\n",
    "from langchain_groq import ChatGroq\n",
    "from langchain_core.tools import tool\n",
    "from langchain_core.messages import HumanMessage, ToolMessage\n",
    "\n",
    "# Load API key\n",
    "load_dotenv()\n",
    "GROQ_API_KEY = os.getenv(\"GROQ_API_KEY\")\n",
    "\n",
    "# Initialize LLaMA 3 (Groq)\n",
    "llm = ChatGroq(model_name=\"llama3-8b-8192\", groq_api_key=GROQ_API_KEY)\n",
    "\n",
    "# Define a tool\n",
    "@tool\n",
    "def multiply(a: int, b: int) -> int:\n",
    "    \"\"\"Given 2 numbers a and b, return their product.\"\"\"\n",
    "    return a * b\n",
    "\n",
    "# Bind the tool\n",
    "llm_with_tools = llm.bind_tools([multiply])\n",
    "\n",
    "# Step 1: User query\n",
    "query = HumanMessage(content=\"can you multiply 3 with 1000?\")\n",
    "messages = [query]\n",
    "\n",
    "# Step 2: Model decides tool call\n",
    "result = llm_with_tools.invoke(messages)\n",
    "print(\"MODEL RESPONSE:\", result)\n",
    "\n",
    "# Step 3: If tool call exists, execute tool\n",
    "if result.tool_calls:\n",
    "    # Extract first tool call\n",
    "    tool_call = result.tool_calls[0]\n",
    "    print(\"TOOL CALL:\", tool_call)\n",
    "    \n",
    "    # Execute the tool\n",
    "    tool_output = multiply.invoke(tool_call)\n",
    "    print(\"TOOL OUTPUT:\", tool_output)\n",
    "    \n",
    "    # Step 4: Send tool result back to model as ToolMessage\n",
    "    tool_msg = ToolMessage(content=str(tool_output), tool_call_id=tool_call[\"id\"])\n",
    "    messages.extend([result, tool_msg])\n",
    "    \n",
    "    # Step 5: Final model response\n",
    "    final_answer = llm_with_tools.invoke(messages)\n",
    "    print(\"FINAL ANSWER:\", final_answer.content)\n",
    "else:\n",
    "    print(\"No tool was called, direct answer:\", result.content)\n"
   ]
  },
  {
   "cell_type": "code",
   "execution_count": null,
   "id": "da81619f",
   "metadata": {},
   "outputs": [],
   "source": []
  }
 ],
 "metadata": {
  "kernelspec": {
   "display_name": "venv",
   "language": "python",
   "name": "python3"
  },
  "language_info": {
   "codemirror_mode": {
    "name": "ipython",
    "version": 3
   },
   "file_extension": ".py",
   "mimetype": "text/x-python",
   "name": "python",
   "nbconvert_exporter": "python",
   "pygments_lexer": "ipython3",
   "version": "3.11.4"
  }
 },
 "nbformat": 4,
 "nbformat_minor": 5
}
